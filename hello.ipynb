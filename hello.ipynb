{
  "nbformat": 4,
  "nbformat_minor": 0,
  "metadata": {
    "colab": {
      "provenance": [],
      "gpuType": "T4",
      "authorship_tag": "ABX9TyM1TvldkCLkfOTux0U0ulxk",
      "include_colab_link": true
    },
    "kernelspec": {
      "name": "python3",
      "display_name": "Python 3"
    },
    "language_info": {
      "name": "python"
    },
    "accelerator": "GPU"
  },
  "cells": [
    {
      "cell_type": "markdown",
      "metadata": {
        "id": "view-in-github",
        "colab_type": "text"
      },
      "source": [
        "<a href=\"https://colab.research.google.com/github/ashnap07/Aqar_Prices_Prediction/blob/main/hello.ipynb\" target=\"_parent\"><img src=\"https://colab.research.google.com/assets/colab-badge.svg\" alt=\"Open In Colab\"/></a>"
      ]
    },
    {
      "cell_type": "code",
      "execution_count": null,
      "metadata": {
        "colab": {
          "base_uri": "https://localhost:8080/"
        },
        "id": "315__Szg4H2_",
        "outputId": "57e6ee55-d759-466e-aaca-5c257fa9b8a5"
      },
      "outputs": [
        {
          "output_type": "stream",
          "name": "stdout",
          "text": [
            "Writing hello.cu\n"
          ]
        }
      ],
      "source": [
        "%%writefile hello.cu\n",
        "#include <iostream>\n",
        "#include <cuda_runtime.h>\n",
        "\n",
        "// Kernel function to print thread details\n",
        "__global__ void printThreadDetails() {\n",
        "    // Thread details in 1D block and grid\n",
        "    int threadX = threadIdx.x, threadY = threadIdx.y, threadZ = threadIdx.z;\n",
        "    int blockX = blockIdx.x, blockY = blockIdx.y, blockZ = blockIdx.z;\n",
        "\n",
        "    // Calculate unique global thread ID\n",
        "    int threadId = threadIdx.x + blockIdx.x * blockDim.x;\n",
        "\n",
        "    printf(\"Hello from Thread [%d, %d, %d] in Block [%d, %d, %d] (Global Thread ID: %d)\\n\",\n",
        "           threadX, threadY, threadZ, blockX, blockY, blockZ, threadId);\n",
        "}\n",
        "\n",
        "int main() {\n",
        "    // Define grid and block dimensions\n",
        "    dim3 blockDim(2, 2, 1);  // 2x2 threads per block\n",
        "    dim3 gridDim(2, 1, 1);   // 2 blocks in a grid\n",
        "\n",
        "    // Launch the kernel\n",
        "    printThreadDetails<<<gridDim, blockDim>>>();\n",
        "\n",
        "    // Synchronize to ensure all threads complete\n",
        "    cudaDeviceSynchronize();\n",
        "\n",
        "    return 0;\n",
        "}"
      ]
    },
    {
      "cell_type": "code",
      "source": [
        "! nvcc -o hello hello.cu"
      ],
      "metadata": {
        "id": "dez0xN1y4a4y"
      },
      "execution_count": null,
      "outputs": []
    },
    {
      "cell_type": "code",
      "source": [
        "! ./hello"
      ],
      "metadata": {
        "id": "4EP5iR6s4viR",
        "outputId": "bfce0651-aa6a-4714-996c-e693ec20057b",
        "colab": {
          "base_uri": "https://localhost:8080/"
        }
      },
      "execution_count": null,
      "outputs": [
        {
          "output_type": "stream",
          "name": "stdout",
          "text": [
            "Hello from Thread [0, 0, 0] in Block [0, 0, 0] (Global Thread ID: 0)\n",
            "Hello from Thread [1, 0, 0] in Block [0, 0, 0] (Global Thread ID: 1)\n",
            "Hello from Thread [0, 1, 0] in Block [0, 0, 0] (Global Thread ID: 0)\n",
            "Hello from Thread [1, 1, 0] in Block [0, 0, 0] (Global Thread ID: 1)\n",
            "Hello from Thread [0, 0, 0] in Block [1, 0, 0] (Global Thread ID: 2)\n",
            "Hello from Thread [1, 0, 0] in Block [1, 0, 0] (Global Thread ID: 3)\n",
            "Hello from Thread [0, 1, 0] in Block [1, 0, 0] (Global Thread ID: 2)\n",
            "Hello from Thread [1, 1, 0] in Block [1, 0, 0] (Global Thread ID: 3)\n"
          ]
        }
      ]
    }
  ]
}