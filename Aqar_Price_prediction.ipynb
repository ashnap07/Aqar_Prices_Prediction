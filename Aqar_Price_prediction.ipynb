{
 "cells": [
  {
   "cell_type": "code",
   "execution_count": 1,
   "id": "e4f604cb",
   "metadata": {},
   "outputs": [],
   "source": [
    "import numpy as np\n",
    "import pandas as pd\n",
    "import sklearn\n",
    "import matplotlib.pyplot as plt\n",
    "from sklearn.preprocessing import StandardScaler\n",
    "from sklearn.model_selection import train_test_split\n",
    "from sklearn.metrics import mean_squared_error, mean_absolute_error\n",
    "from sklearn.model_selection import cross_val_score, KFold\n",
    "from sklearn.model_selection import cross_validate"
   ]
  },
  {
   "cell_type": "code",
   "execution_count": 2,
   "id": "437b45d6",
   "metadata": {},
   "outputs": [
    {
     "name": "stdout",
     "output_type": "stream",
     "text": [
      "Requirement already satisfied: xgboost in c:\\users\\user\\anaconda3\\lib\\site-packages (1.7.2)\n",
      "Requirement already satisfied: scipy in c:\\users\\user\\anaconda3\\lib\\site-packages (from xgboost) (1.7.3)\n",
      "Requirement already satisfied: numpy in c:\\users\\user\\anaconda3\\lib\\site-packages (from xgboost) (1.21.5)\n"
     ]
    }
   ],
   "source": [
    "import sys\n",
    "!{sys.executable} -m pip install xgboost\n"
   ]
  },
  {
   "cell_type": "code",
   "execution_count": 3,
   "id": "4a575f5a",
   "metadata": {},
   "outputs": [],
   "source": [
    "df=pd.read_csv(\"aqardata_2.csv\")"
   ]
  },
  {
   "cell_type": "code",
   "execution_count": 4,
   "id": "c1ae1dcc",
   "metadata": {},
   "outputs": [
    {
     "name": "stdout",
     "output_type": "stream",
     "text": [
      "<class 'pandas.core.frame.DataFrame'>\n",
      "RangeIndex: 2951 entries, 0 to 2950\n",
      "Data columns (total 8 columns):\n",
      " #   Column        Non-Null Count  Dtype  \n",
      "---  ------        --------------  -----  \n",
      " 0   mainlocation  2951 non-null   object \n",
      " 1   sublocation   2276 non-null   object \n",
      " 2   neighborhood  2951 non-null   object \n",
      " 3   frontage      2951 non-null   object \n",
      " 4   purpose       2604 non-null   object \n",
      " 5   streetwidth   2948 non-null   float64\n",
      " 6   size          2951 non-null   int64  \n",
      " 7   Pricepm       2951 non-null   int64  \n",
      "dtypes: float64(1), int64(2), object(5)\n",
      "memory usage: 184.6+ KB\n"
     ]
    },
    {
     "data": {
      "text/html": [
       "<div>\n",
       "<style scoped>\n",
       "    .dataframe tbody tr th:only-of-type {\n",
       "        vertical-align: middle;\n",
       "    }\n",
       "\n",
       "    .dataframe tbody tr th {\n",
       "        vertical-align: top;\n",
       "    }\n",
       "\n",
       "    .dataframe thead th {\n",
       "        text-align: right;\n",
       "    }\n",
       "</style>\n",
       "<table border=\"1\" class=\"dataframe\">\n",
       "  <thead>\n",
       "    <tr style=\"text-align: right;\">\n",
       "      <th></th>\n",
       "      <th>mainlocation</th>\n",
       "      <th>sublocation</th>\n",
       "      <th>neighborhood</th>\n",
       "      <th>frontage</th>\n",
       "      <th>purpose</th>\n",
       "      <th>streetwidth</th>\n",
       "      <th>size</th>\n",
       "      <th>Pricepm</th>\n",
       "    </tr>\n",
       "  </thead>\n",
       "  <tbody>\n",
       "    <tr>\n",
       "      <th>0</th>\n",
       "      <td>الرياض</td>\n",
       "      <td>غرب الرياض</td>\n",
       "      <td>حي ظهرة لبن</td>\n",
       "      <td>شمال</td>\n",
       "      <td>سكني</td>\n",
       "      <td>20.0</td>\n",
       "      <td>727</td>\n",
       "      <td>1800</td>\n",
       "    </tr>\n",
       "    <tr>\n",
       "      <th>1</th>\n",
       "      <td>بريدة</td>\n",
       "      <td>NaN</td>\n",
       "      <td>حي مشعل</td>\n",
       "      <td>غرب</td>\n",
       "      <td>NaN</td>\n",
       "      <td>15.0</td>\n",
       "      <td>450</td>\n",
       "      <td>950</td>\n",
       "    </tr>\n",
       "    <tr>\n",
       "      <th>2</th>\n",
       "      <td>الخبر</td>\n",
       "      <td>NaN</td>\n",
       "      <td>حي الحمرا</td>\n",
       "      <td>غرب</td>\n",
       "      <td>تجاري</td>\n",
       "      <td>100.0</td>\n",
       "      <td>1450</td>\n",
       "      <td>3500</td>\n",
       "    </tr>\n",
       "    <tr>\n",
       "      <th>3</th>\n",
       "      <td>الخبر</td>\n",
       "      <td>NaN</td>\n",
       "      <td>حي الحزام الاخضر</td>\n",
       "      <td>شرق</td>\n",
       "      <td>NaN</td>\n",
       "      <td>15.0</td>\n",
       "      <td>440</td>\n",
       "      <td>2700</td>\n",
       "    </tr>\n",
       "    <tr>\n",
       "      <th>4</th>\n",
       "      <td>بريدة</td>\n",
       "      <td>NaN</td>\n",
       "      <td>حي الرحاب</td>\n",
       "      <td>جنوب غربي</td>\n",
       "      <td>NaN</td>\n",
       "      <td>40.0</td>\n",
       "      <td>784</td>\n",
       "      <td>950</td>\n",
       "    </tr>\n",
       "  </tbody>\n",
       "</table>\n",
       "</div>"
      ],
      "text/plain": [
       "  mainlocation sublocation      neighborhood   frontage purpose  streetwidth  \\\n",
       "0       الرياض  غرب الرياض       حي ظهرة لبن       شمال    سكني         20.0   \n",
       "1        بريدة         NaN           حي مشعل        غرب     NaN         15.0   \n",
       "2        الخبر         NaN         حي الحمرا        غرب   تجاري        100.0   \n",
       "3        الخبر         NaN  حي الحزام الاخضر        شرق     NaN         15.0   \n",
       "4        بريدة         NaN         حي الرحاب  جنوب غربي     NaN         40.0   \n",
       "\n",
       "   size  Pricepm  \n",
       "0   727     1800  \n",
       "1   450      950  \n",
       "2  1450     3500  \n",
       "3   440     2700  \n",
       "4   784      950  "
      ]
     },
     "execution_count": 4,
     "metadata": {},
     "output_type": "execute_result"
    }
   ],
   "source": [
    "\n",
    "\n",
    "df.info()\n",
    "df.head()\n",
    "\n"
   ]
  },
  {
   "cell_type": "code",
   "execution_count": 5,
   "id": "101dc259",
   "metadata": {},
   "outputs": [],
   "source": [
    "df.drop(labels=\"sublocation\",axis=1,inplace=True)\n",
    "df['streetwidth'] = df['streetwidth'].fillna(int(np.mean(df[\"streetwidth\"])))\n",
    "df['purpose'].fillna('سكني', inplace = True)\n",
    "outprice = df[(df['Pricepm']>= 10000)].index\n",
    "df.drop(outprice,inplace = True)\n",
    "df = pd.get_dummies(data=df, columns=['mainlocation', 'purpose', 'frontage', 'neighborhood'])\n"
   ]
  },
  {
   "cell_type": "code",
   "execution_count": 6,
   "id": "b7ef20ab",
   "metadata": {},
   "outputs": [],
   "source": [
    "X= df.drop('Pricepm', axis = 1)\n",
    "y=df[\"Pricepm\"]"
   ]
  },
  {
   "cell_type": "code",
   "execution_count": 7,
   "id": "8e425371",
   "metadata": {},
   "outputs": [],
   "source": [
    "X_train, X_test, y_train, y_test = train_test_split(X, y, test_size = 0.2, random_state = 42)"
   ]
  },
  {
   "cell_type": "code",
   "execution_count": 8,
   "id": "7ace0716",
   "metadata": {},
   "outputs": [],
   "source": [
    "import xgboost as xgb\n",
    "regressor = xgb.XGBRegressor(n_estimators = 3000,\n",
    "                         learning_rate = 0.01,\n",
    "                         max_depth = 11)"
   ]
  },
  {
   "cell_type": "code",
   "execution_count": 9,
   "id": "a427d82e",
   "metadata": {},
   "outputs": [
    {
     "data": {
      "text/plain": [
       "XGBRegressor(base_score=0.5, booster='gbtree', callbacks=None,\n",
       "             colsample_bylevel=1, colsample_bynode=1, colsample_bytree=1,\n",
       "             early_stopping_rounds=None, enable_categorical=False,\n",
       "             eval_metric=None, feature_types=None, gamma=0, gpu_id=-1,\n",
       "             grow_policy='depthwise', importance_type=None,\n",
       "             interaction_constraints='', learning_rate=0.01, max_bin=256,\n",
       "             max_cat_threshold=64, max_cat_to_onehot=4, max_delta_step=0,\n",
       "             max_depth=11, max_leaves=0, min_child_weight=1, missing=nan,\n",
       "             monotone_constraints='()', n_estimators=3000, n_jobs=0,\n",
       "             num_parallel_tree=1, predictor='auto', random_state=0, ...)"
      ]
     },
     "execution_count": 9,
     "metadata": {},
     "output_type": "execute_result"
    }
   ],
   "source": [
    "regressor.fit(X_train, y_train)"
   ]
  },
  {
   "cell_type": "code",
   "execution_count": 10,
   "id": "5eccff81",
   "metadata": {},
   "outputs": [],
   "source": [
    "y_pred = regressor.predict(X_test)"
   ]
  },
  {
   "cell_type": "code",
   "execution_count": 19,
   "id": "b83ac8cb",
   "metadata": {},
   "outputs": [
    {
     "data": {
      "text/plain": [
       "372.18442776174726"
      ]
     },
     "execution_count": 19,
     "metadata": {},
     "output_type": "execute_result"
    }
   ],
   "source": [
    "MAE = mean_absolute_error(y_test, y_pred)\n",
    "MAE"
   ]
  },
  {
   "cell_type": "code",
   "execution_count": 20,
   "id": "c2162450",
   "metadata": {},
   "outputs": [],
   "source": [
    "kf = KFold(n_splits = 5, shuffle = True, random_state =22)"
   ]
  },
  {
   "cell_type": "code",
   "execution_count": 13,
   "id": "a36058d5",
   "metadata": {},
   "outputs": [
    {
     "name": "stdout",
     "output_type": "stream",
     "text": [
      "{'fit_time': array([23.14180398, 23.94356084, 26.79513383, 25.40402436, 24.09534979]), 'score_time': array([0.02671576, 0.03889585, 0.02892256, 0.0289259 , 0.03490591]), 'test_neg_mean_absolute_error': array([-374.53617124, -409.91532826, -411.60626035, -400.17219489,\n",
      "       -348.92391999]), 'test_r2': array([0.82352527, 0.76147442, 0.74821157, 0.79670706, 0.82022539]), 'test_neg_root_mean_squared_error': array([-660.23440818, -757.34779514, -748.3036492 , -660.87394815,\n",
      "       -607.3701867 ])}\n"
     ]
    }
   ],
   "source": [
    "cv = cross_validate(regressor, X, y, cv= kf, scoring = ['neg_mean_absolute_error', 'r2', 'neg_root_mean_squared_error'])\n",
    "print(cv)"
   ]
  },
  {
   "cell_type": "code",
   "execution_count": 18,
   "id": "5279c720",
   "metadata": {},
   "outputs": [
    {
     "name": "stdout",
     "output_type": "stream",
     "text": [
      "Root Mean Square Error (RMSE): 686.8259974747324\n",
      "Mean Absolute Error (MAE):     389.03077494747276\n",
      "R2:                            0.7900287426587159\n"
     ]
    }
   ],
   "source": [
    "\n",
    "print(\"Root Mean Square Error (RMSE):\",-1 * cv['test_neg_root_mean_squared_error'].mean())\n",
    "print(\"Mean Absolute Error (MAE):    \",-1 * cv['test_neg_mean_absolute_error'].mean())\n",
    "print(\"R2:                           \",cv['test_r2'].mean())"
   ]
  },
  {
   "cell_type": "code",
   "execution_count": null,
   "id": "5b91a461",
   "metadata": {},
   "outputs": [],
   "source": []
  }
 ],
 "metadata": {
  "kernelspec": {
   "display_name": "Python 3 (ipykernel)",
   "language": "python",
   "name": "python3"
  },
  "language_info": {
   "codemirror_mode": {
    "name": "ipython",
    "version": 3
   },
   "file_extension": ".py",
   "mimetype": "text/x-python",
   "name": "python",
   "nbconvert_exporter": "python",
   "pygments_lexer": "ipython3",
   "version": "3.9.12"
  }
 },
 "nbformat": 4,
 "nbformat_minor": 5
}
